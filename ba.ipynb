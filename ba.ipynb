{
 "cells": [
  {
   "cell_type": "code",
   "execution_count": 4,
   "metadata": {},
   "outputs": [
    {
     "name": "stdout",
     "output_type": "stream",
     "text": [
      "\n",
      "[\n",
      "  {\n",
      "    \"question\": \"Osmanlı İmparatorluğu'nun kurucusu kimdi?\",\n",
      "    \"choices\": {\n",
      "      \"A\": \"Sultan Osman I\",\n",
      "      \"B\": \"Sultan Orhan Gazi\",\n",
      "      \"C\": \"Sultan Murad Hüdavendigar\",\n",
      "      \"D\": \"Sultan Mehmed II\"\n",
      "    },\n",
      "    \"correct_answer\": \"B\"\n",
      "  },\n",
      "  {\n",
      "    \"question\": \"Osmanlı İmparatorluğu hangi yılda kuruldu?\",\n",
      "    \"choices\": {\n",
      "      \"A\": \"1299\",\n",
      "      \"B\": \"1300\",\n",
      "      \"C\": \"1312\",\n",
      "      \"D\": \"1326\"\n",
      "    },\n",
      "    \"correct_answer\": \"A\"\n",
      "  },\n",
      "  {\n",
      "    \"question\": \"Osmanlı İmparatorluğu'nun ilk başkenti neresiydi?\",\n",
      "    \"choices\": {\n",
      "      \"A\": \"İstanbul\",\n",
      "      \"B\": \"Edirne\",\n",
      "      \"C\": \"Bursa\",\n",
      "      \"D\": \"Ankara\"\n",
      "    },\n",
      "    \"correct_answer\": \"C\"\n",
      "  },\n",
      "  {\n",
      "    \"question\": \"Osmanlı İmparatorluğu kaç yıl sürdü?\",\n",
      "    \"choices\": {\n",
      "      \"A\": \"600\",\n",
      "      \"B\": \"700\",\n",
      "      \"C\": \"800\",\n",
      "      \"D\": \"900\"\n",
      "    },\n",
      "    \"correct_answer\": \"C\"\n",
      "  }\n",
      "]\n"
     ]
    }
   ],
   "source": []
  },
  {
   "cell_type": "code",
   "execution_count": null,
   "metadata": {},
   "outputs": [],
   "source": []
  }
 ],
 "metadata": {
  "kernelspec": {
   "display_name": "base",
   "language": "python",
   "name": "python3"
  },
  "language_info": {
   "codemirror_mode": {
    "name": "ipython",
    "version": 3
   },
   "file_extension": ".py",
   "mimetype": "text/x-python",
   "name": "python",
   "nbconvert_exporter": "python",
   "pygments_lexer": "ipython3",
   "version": "3.10.9"
  }
 },
 "nbformat": 4,
 "nbformat_minor": 2
}
